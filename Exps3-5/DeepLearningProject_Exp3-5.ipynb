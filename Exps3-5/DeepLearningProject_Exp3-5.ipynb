{
 "cells": [
  {
   "cell_type": "markdown",
   "metadata": {},
   "source": [
    "#Experiments S\n",
    "This notebook includes the code to recreate the experiments Mean LS, Reduced Set and Batch position"
   ]
  },
  {
   "cell_type": "markdown",
   "metadata": {},
   "source": [
    "Part 1, basic setup"
   ]
  },
  {
   "cell_type": "code",
   "execution_count": 1,
   "metadata": {
    "id": "i3odB2hB4P6r"
   },
   "outputs": [],
   "source": [
    "import torch\n",
    "import torch.nn as nn\n",
    "from torch.utils.data import Subset\n",
    "import torchvision\n",
    "import torchvision.transforms as transforms\n",
    "from torchvision.models import resnet18\n",
    "import matplotlib.pyplot as plt\n",
    "from tqdm import tqdm"
   ]
  },
  {
   "cell_type": "code",
   "execution_count": 2,
   "metadata": {
    "colab": {
     "base_uri": "https://localhost:8080/"
    },
    "id": "nCpRfUJK6vkj",
    "outputId": "913f69e0-f449-4185-c700-4fdbd8209b94"
   },
   "outputs": [
    {
     "name": "stdout",
     "output_type": "stream",
     "text": [
      "Files already downloaded and verified\n",
      "Files already downloaded and verified\n"
     ]
    }
   ],
   "source": [
    "# Choose CIFAR-10 or CIFAR-100\n",
    "dataset_name = 'CIFAR10'  # or 'CIFAR100'\n",
    "\n",
    "mean = [0.5, 0.5, 0.5]\n",
    "std = [0.5, 0.5, 0.5]\n",
    "\n",
    "# Data augmentation and normalization\n",
    "transform = transforms.Compose([\n",
    "    # transforms.RandomHorizontalFlip(),\n",
    "    # transforms.RandomCrop(32, padding=4),\n",
    "    transforms.ToTensor(),\n",
    "    transforms.Normalize(mean, std)\n",
    "])\n",
    "\n",
    "# Split the dataset into num_tasks subsets. NEED DEVISIBLE BY 10/100\n",
    "num_tasks = 5\n",
    "\n",
    "# Load training and testing datasets\n",
    "if dataset_name == 'CIFAR10':\n",
    "    train_dataset = torchvision.datasets.CIFAR10(root='./data', train=True, transform=transform, download=True)\n",
    "    test_dataset = torchvision.datasets.CIFAR10(root='./data', train=False, transform=transform, download=True)\n",
    "    num_classes = 10\n",
    "    classes_per_subset = num_classes // num_tasks\n",
    "elif dataset_name == 'CIFAR100':\n",
    "    train_dataset = torchvision.datasets.CIFAR100(root='./data', train=True, transform=transform, download=True)\n",
    "    test_dataset = torchvision.datasets.CIFAR100(root='./data', train=False, transform=transform, download=True)\n",
    "    num_classes = 100\n",
    "    classes_per_subset = num_classes // num_tasks"
   ]
  },
  {
   "cell_type": "code",
   "execution_count": 3,
   "metadata": {
    "id": "JpY7SN-jFs5e"
   },
   "outputs": [],
   "source": [
    "def split_dataset_by_classes(dataset, classes):\n",
    "    \"\"\"\n",
    "    Split the dataset to only include samples from the specified classes.\n",
    "    Args:\n",
    "        dataset: The CIFAR-10 dataset object.\n",
    "        classes: A list of class indices to include in the subset (e.g., [0, 1, 2]).\n",
    "    Returns:\n",
    "        A Subset containing only the samples from the specified classes.\n",
    "    \"\"\"\n",
    "    targets = torch.tensor(dataset.targets)  # Get all labels as a tensor\n",
    "    # Use `torch.isin` to check if each target is in the `classes` list\n",
    "    indices = torch.where(torch.isin(targets, torch.tensor(classes)))[0]\n",
    "    return Subset(dataset, indices)\n",
    "\n",
    "\n",
    "# Create subsets for all pairs of casses\n",
    "classes_list = list(range(0, num_classes))\n",
    "class_pairs = [tuple(classes_list[i:i+classes_per_subset]) for i in range(0, len(classes_list), classes_per_subset)]  # Class pairs (e.g., (0, 1), (2, 3), ...)\n",
    "train_subsets = {pair: split_dataset_by_classes(train_dataset, pair) for pair in class_pairs}\n",
    "test_subsets = {pair: split_dataset_by_classes(test_dataset, pair) for pair in class_pairs}\n",
    "\n",
    "# Example: Access a specific subset\n",
    "# subset_0_1 = subsets[(0, 1)]\n",
    "# print(f\"Subset for classes {0, 1} size: {len(subset_0_1)}\")"
   ]
  },
  {
   "cell_type": "code",
   "execution_count": 4,
   "metadata": {
    "id": "qgW38ZvV6voW"
   },
   "outputs": [],
   "source": [
    "# Modify ResNet18 for CIFAR\n",
    "class ResNet18ForCIFAR(nn.Module):\n",
    "    def __init__(self, num_classes):\n",
    "        super(ResNet18ForCIFAR, self).__init__()\n",
    "        self.model = resnet18(weights=None)  # Initialize ResNet18\n",
    "        self.model.conv1 = nn.Conv2d(3, 64, kernel_size=3, stride=1, padding=1, bias=False)  # Adjust for CIFAR\n",
    "        self.model.maxpool = nn.Identity()  # Remove max pooling layer\n",
    "        self.model.fc = nn.Linear(512, num_classes)  # Adjust the final layer for CIFAR\n",
    "\n",
    "    def forward(self, x):\n",
    "        return self.model(x)\n",
    "\n",
    "# Create model instance\n",
    "model = ResNet18ForCIFAR(num_classes)\n",
    "device = torch.device('cuda' if torch.cuda.is_available() else 'cpu')\n",
    "model = model.to(device)"
   ]
  },
  {
   "cell_type": "code",
   "execution_count": 5,
   "metadata": {
    "id": "d8bfrNdo64jv"
   },
   "outputs": [],
   "source": [
    "criterion = nn.CrossEntropyLoss()\n",
    "optimizer = torch.optim.Adam(model.parameters(), lr=0.001, weight_decay=5e-4)\n",
    "scheduler = torch.optim.lr_scheduler.CosineAnnealingLR(optimizer, T_max=200)"
   ]
  },
  {
   "cell_type": "code",
   "execution_count": 6,
   "metadata": {
    "id": "nl3aIdBm64rx"
   },
   "outputs": [],
   "source": [
    "#changed this\n",
    "def train(model, train_loader, criterion, optimizer, device, epoch):\n",
    "    model.train()\n",
    "    total_loss = 0\n",
    "    correct = 0\n",
    "    total = 0\n",
    "\n",
    "    total_num_samples = len(train_loader.dataset)\n",
    "    is_correct = torch.zeros((1, total_num_samples))\n",
    "    is_correct_idx = 0\n",
    "\n",
    "    progress_bar = tqdm(train_loader, desc=f\"Epoch {epoch} [Training]\", leave=False)\n",
    "    for batch_idx, (indexes,(inputs, targets)) in enumerate(progress_bar):\n",
    "        inputs, targets = inputs.to(device), targets.to(device)\n",
    "        optimizer.zero_grad()\n",
    "        outputs = model(inputs)\n",
    "        loss = criterion(outputs, targets)\n",
    "        loss.backward()\n",
    "        optimizer.step()\n",
    "\n",
    "        total_loss += loss.item()\n",
    "        _, predicted = outputs.max(1)\n",
    "        total += targets.shape[0]\n",
    "        correct += predicted.eq(targets).sum().item()\n",
    "\n",
    "        batch_num_samples = targets.shape[0]\n",
    "        is_correct[:, indexes] = predicted.eq(targets).cpu().float()\n",
    "        \n",
    "\n",
    "        # Update progress bar\n",
    "        progress_bar.set_postfix(loss=f\"{loss.item():.4f}\", accuracy=f\"{100. * correct / total:.2f}%\")\n",
    "\n",
    "\n",
    "    accuracy = 100. * correct / total\n",
    "    return total_loss / len(train_loader), accuracy, is_correct"
   ]
  },
  {
   "cell_type": "code",
   "execution_count": 7,
   "metadata": {
    "id": "4d3G3J0O64uY"
   },
   "outputs": [],
   "source": [
    "def test(model, test_loader, criterion, device, epoch):\n",
    "    model.eval()\n",
    "    total_loss = 0\n",
    "    correct = 0\n",
    "    total = 0\n",
    "\n",
    "    # Wrap DataLoader with tqdm\n",
    "    progress_bar = tqdm(test_loader, desc=f\"Epoch {epoch} [Testing]\", leave=False)\n",
    "    with torch.no_grad():\n",
    "        for batch_idx, (inputs, targets) in enumerate(progress_bar):\n",
    "            inputs, targets = inputs.to(device), targets.to(device)\n",
    "            outputs = model(inputs)\n",
    "            loss = criterion(outputs, targets)\n",
    "\n",
    "            total_loss += loss.item()\n",
    "            _, predicted = outputs.max(1)\n",
    "            total += targets.shape[0]\n",
    "            correct += predicted.eq(targets).sum().item()\n",
    "\n",
    "            # Update progress bar with batch loss and accuracy\n",
    "            progress_bar.set_postfix(loss=f\"{loss.item():.4f}\", accuracy=f\"{100. * correct / total:.2f}%\")\n",
    "\n",
    "    accuracy = 100. * correct / total\n",
    "    return total_loss / len(test_loader), accuracy"
   ]
  },
  {
   "cell_type": "code",
   "execution_count": 8,
   "metadata": {
    "colab": {
     "base_uri": "https://localhost:8080/",
     "height": 647
    },
    "id": "VuI8GUG3RMjp",
    "outputId": "ea6c89ed-092d-46e1-fff8-1eb943e50739",
    "scrolled": true
   },
   "outputs": [
    {
     "name": "stdout",
     "output_type": "stream",
     "text": [
      "Training task 0...\n"
     ]
    },
    {
     "name": "stderr",
     "output_type": "stream",
     "text": [
      "                                                                                   \r"
     ]
    },
    {
     "ename": "KeyboardInterrupt",
     "evalue": "",
     "output_type": "error",
     "traceback": [
      "\u001b[0;31m---------------------------------------------------------------------------\u001b[0m",
      "\u001b[0;31mKeyboardInterrupt\u001b[0m                         Traceback (most recent call last)",
      "Cell \u001b[0;32mIn[8], line 18\u001b[0m\n\u001b[1;32m     16\u001b[0m \u001b[38;5;28mprint\u001b[39m(\u001b[38;5;124mf\u001b[39m\u001b[38;5;124m\"\u001b[39m\u001b[38;5;124mTraining task \u001b[39m\u001b[38;5;132;01m{\u001b[39;00mtask\u001b[38;5;132;01m}\u001b[39;00m\u001b[38;5;124m...\u001b[39m\u001b[38;5;124m\"\u001b[39m)\n\u001b[1;32m     17\u001b[0m \u001b[38;5;28;01mfor\u001b[39;00m epoch \u001b[38;5;129;01min\u001b[39;00m \u001b[38;5;28mrange\u001b[39m(num_epochs):\n\u001b[0;32m---> 18\u001b[0m   train_loss, train_acc, is_correct \u001b[38;5;241m=\u001b[39m \u001b[43mtrain\u001b[49m\u001b[43m(\u001b[49m\u001b[43mmodel\u001b[49m\u001b[43m,\u001b[49m\u001b[43m \u001b[49m\u001b[43mtrain_loader\u001b[49m\u001b[43m,\u001b[49m\u001b[43m \u001b[49m\u001b[43mcriterion\u001b[49m\u001b[43m,\u001b[49m\u001b[43m \u001b[49m\u001b[43moptimizer\u001b[49m\u001b[43m,\u001b[49m\u001b[43m \u001b[49m\u001b[43mdevice\u001b[49m\u001b[43m,\u001b[49m\u001b[43m \u001b[49m\u001b[43mepoch\u001b[49m\u001b[43m)\u001b[49m\n\u001b[1;32m     19\u001b[0m   M[epoch] \u001b[38;5;241m=\u001b[39m is_correct\n\u001b[1;32m     20\u001b[0m   test_loss, test_acc \u001b[38;5;241m=\u001b[39m test(model, test_loader, criterion, device, epoch)\n",
      "Cell \u001b[0;32mIn[6], line 21\u001b[0m, in \u001b[0;36mtrain\u001b[0;34m(model, train_loader, criterion, optimizer, device, epoch)\u001b[0m\n\u001b[1;32m     18\u001b[0m loss\u001b[38;5;241m.\u001b[39mbackward()\n\u001b[1;32m     19\u001b[0m optimizer\u001b[38;5;241m.\u001b[39mstep()\n\u001b[0;32m---> 21\u001b[0m total_loss \u001b[38;5;241m+\u001b[39m\u001b[38;5;241m=\u001b[39m \u001b[43mloss\u001b[49m\u001b[38;5;241;43m.\u001b[39;49m\u001b[43mitem\u001b[49m\u001b[43m(\u001b[49m\u001b[43m)\u001b[49m\n\u001b[1;32m     22\u001b[0m _, predicted \u001b[38;5;241m=\u001b[39m outputs\u001b[38;5;241m.\u001b[39mmax(\u001b[38;5;241m1\u001b[39m)\n\u001b[1;32m     23\u001b[0m total \u001b[38;5;241m+\u001b[39m\u001b[38;5;241m=\u001b[39m targets\u001b[38;5;241m.\u001b[39mshape[\u001b[38;5;241m0\u001b[39m]\n",
      "\u001b[0;31mKeyboardInterrupt\u001b[0m: "
     ]
    }
   ],
   "source": [
    "#changed this\n",
    "num_epochs = 10\n",
    "save_per_epochs = 20\n",
    "per_task_learning_speed = torch.zeros(num_tasks,10000)\n",
    "\n",
    "for task in range(num_tasks):\n",
    "    train_subset = list(enumerate(train_subsets[class_pairs[task]]))\n",
    "    test_subset = test_subsets[class_pairs[task]]\n",
    "    train_loader = torch.utils.data.DataLoader(dataset=train_subset, batch_size=128, shuffle=True, num_workers=4)\n",
    "    test_loader = torch.utils.data.DataLoader(dataset=test_subset, batch_size=128, shuffle=False, num_workers=4)\n",
    "    \n",
    "    # For learning speed tracking\n",
    "    total_num_samples = len(train_loader.dataset)\n",
    "    M = torch.zeros((num_epochs, total_num_samples))\n",
    "    \n",
    "    print(f\"Training task {task}...\")\n",
    "    for epoch in range(num_epochs):\n",
    "      train_loss, train_acc, is_correct = train(model, train_loader, criterion, optimizer, device, epoch)\n",
    "      M[epoch] = is_correct\n",
    "      test_loss, test_acc = test(model, test_loader, criterion, device, epoch)\n",
    "      scheduler.step()\n",
    "    \n",
    "      print(f\"Epoch {epoch+1}/{num_epochs}: Train Loss: {train_loss:.4f}, Train Acc: {train_acc:.2f}% | Test Loss: {test_loss:.4f}, Test Acc: {test_acc:.2f}%\")\n",
    "      if epoch + 1 % save_per_epochs == 0:\n",
    "        torch.save(model.state_dict(), f'resnet18_{dataset_name.lower()}_task{task}_epoch{epoch}.pth')\n",
    "        torch.save(optimizer.state_dict(), f'optimizer_{dataset_name.lower()}_task{task}_epoch{epoch}.pth')\n",
    "        torch.save(scheduler.state_dict(), f'scheduler_{dataset_name.lower()}_task{task}_epoch{epoch}.pth')\n",
    "        torch.save(M, f'M_{dataset_name.lower()}_task{task}_epoch{epoch}.pth')\n",
    "        print(f\"Model of task {task} saved at epoch {epoch}.\")"
   ]
  },
  {
   "cell_type": "code",
   "execution_count": 9,
   "metadata": {
    "colab": {
     "base_uri": "https://localhost:8080/",
     "height": 906
    },
    "id": "apJWU3ED641U",
    "outputId": "95dd6903-3106-4e57-c8ea-b466f640e300"
   },
   "outputs": [
    {
     "data": {
      "image/png": "[encoded data removed]",
      "text/plain": [
       "<Figure size 1000x500 with 10 Axes>"
      ]
     },
     "metadata": {},
     "output_type": "display_data"
    },
    {
     "data": {
      "image/png": "[encoded data removed]",
      "text/plain": [
       "<Figure size 1000x500 with 10 Axes>"
      ]
     },
     "metadata": {},
     "output_type": "display_data"
    }
   ],
   "source": [
    "task = 1 # TODO: change this to visualize different tasks\n",
    "# M = torch.load(f'M_{dataset_name.lower()}_task{task}_epoch{num_epochs-1}.pth')\n",
    "learning_speed = M.sum(axis=0)\n",
    "sorted_learning_speed, sorted_indices = torch.sort(learning_speed, descending=True)\n",
    "\n",
    "top10_indices = sorted_indices[:10]\n",
    "bottom10_indices = sorted_indices[-10:]\n",
    "\n",
    "# Revert normalization for visualization\n",
    "def denormalize(image, mean, std):\n",
    "    # Reverse the normalization: (image * std) + mean\n",
    "    for c in range(3):  # For each channel\n",
    "        image[c] = image[c] * std[c] + mean[c]\n",
    "    return image\n",
    "\n",
    "# Function to visualize images\n",
    "def visualize_samples(indices, title):\n",
    "    plt.figure(figsize=(10, 5))\n",
    "    for i, idx in enumerate(indices):\n",
    "        img, _ = train_subsets[class_pairs[task]][idx]\n",
    "        img = denormalize(img.clone(), mean, std)\n",
    "        img = img.permute(1, 2, 0)  # Convert from (C, H, W) to (H, W, C)\n",
    "        plt.subplot(2, 5, i + 1)\n",
    "        plt.imshow(img)\n",
    "        plt.title(f\"Idx: {idx}\\nSpeed: {learning_speed[idx]:.2f}\")\n",
    "        plt.axis('off')\n",
    "    plt.suptitle(title)\n",
    "    plt.show()\n",
    "\n",
    "# Visualize Top 10 fastest learned samples\n",
    "visualize_samples(top10_indices, f\"Top 10 Fastest Learned Samples of task {task}\")\n",
    "\n",
    "# Visualize Top 10 slowest learned samples\n",
    "visualize_samples(bottom10_indices, f\"Top 10 Slowest Learned Samples of task {task}\")"
   ]
  },
  {
   "cell_type": "markdown",
   "metadata": {},
   "source": [
    "Part 2 experiments:\n",
    "compute the baseline learning speeds first"
   ]
  },
  {
   "cell_type": "code",
   "execution_count": 10,
   "metadata": {
    "scrolled": true
   },
   "outputs": [
    {
     "name": "stdout",
     "output_type": "stream",
     "text": [
      "Training task 0...\n"
     ]
    },
    {
     "name": "stderr",
     "output_type": "stream",
     "text": [
      "                                                                                   \r"
     ]
    },
    {
     "ename": "KeyboardInterrupt",
     "evalue": "",
     "output_type": "error",
     "traceback": [
      "\u001b[0;31m---------------------------------------------------------------------------\u001b[0m",
      "\u001b[0;31mKeyboardInterrupt\u001b[0m                         Traceback (most recent call last)",
      "Cell \u001b[0;32mIn[10], line 26\u001b[0m\n\u001b[1;32m     24\u001b[0m \u001b[38;5;28mprint\u001b[39m(\u001b[38;5;124mf\u001b[39m\u001b[38;5;124m\"\u001b[39m\u001b[38;5;124mTraining task \u001b[39m\u001b[38;5;132;01m{\u001b[39;00mtask\u001b[38;5;132;01m}\u001b[39;00m\u001b[38;5;124m...\u001b[39m\u001b[38;5;124m\"\u001b[39m)\n\u001b[1;32m     25\u001b[0m \u001b[38;5;28;01mfor\u001b[39;00m epoch \u001b[38;5;129;01min\u001b[39;00m \u001b[38;5;28mrange\u001b[39m(num_epochs):\n\u001b[0;32m---> 26\u001b[0m   train_loss, train_acc, is_correct \u001b[38;5;241m=\u001b[39m \u001b[43mtrain\u001b[49m\u001b[43m(\u001b[49m\u001b[43mmodel\u001b[49m\u001b[43m,\u001b[49m\u001b[43m \u001b[49m\u001b[43mtrain_loader\u001b[49m\u001b[43m,\u001b[49m\u001b[43m \u001b[49m\u001b[43mcriterion\u001b[49m\u001b[43m,\u001b[49m\u001b[43m \u001b[49m\u001b[43moptimizer\u001b[49m\u001b[43m,\u001b[49m\u001b[43m \u001b[49m\u001b[43mdevice\u001b[49m\u001b[43m,\u001b[49m\u001b[43m \u001b[49m\u001b[43mepoch\u001b[49m\u001b[43m)\u001b[49m\n\u001b[1;32m     27\u001b[0m   M[epoch] \u001b[38;5;241m=\u001b[39m is_correct\n\u001b[1;32m     28\u001b[0m   test_loss, test_acc \u001b[38;5;241m=\u001b[39m test(model, test_loader, criterion, device, epoch)\n",
      "Cell \u001b[0;32mIn[6], line 21\u001b[0m, in \u001b[0;36mtrain\u001b[0;34m(model, train_loader, criterion, optimizer, device, epoch)\u001b[0m\n\u001b[1;32m     18\u001b[0m loss\u001b[38;5;241m.\u001b[39mbackward()\n\u001b[1;32m     19\u001b[0m optimizer\u001b[38;5;241m.\u001b[39mstep()\n\u001b[0;32m---> 21\u001b[0m total_loss \u001b[38;5;241m+\u001b[39m\u001b[38;5;241m=\u001b[39m \u001b[43mloss\u001b[49m\u001b[38;5;241;43m.\u001b[39;49m\u001b[43mitem\u001b[49m\u001b[43m(\u001b[49m\u001b[43m)\u001b[49m\n\u001b[1;32m     22\u001b[0m _, predicted \u001b[38;5;241m=\u001b[39m outputs\u001b[38;5;241m.\u001b[39mmax(\u001b[38;5;241m1\u001b[39m)\n\u001b[1;32m     23\u001b[0m total \u001b[38;5;241m+\u001b[39m\u001b[38;5;241m=\u001b[39m targets\u001b[38;5;241m.\u001b[39mshape[\u001b[38;5;241m0\u001b[39m]\n",
      "\u001b[0;31mKeyboardInterrupt\u001b[0m: "
     ]
    }
   ],
   "source": [
    "#create new model instance\n",
    "model = ResNet18ForCIFAR(num_classes)\n",
    "device = torch.device('cuda' if torch.cuda.is_available() else 'cpu')\n",
    "model = model.to(device)\n",
    "criterion = nn.CrossEntropyLoss()\n",
    "optimizer = torch.optim.Adam(model.parameters(), lr=0.001, weight_decay=5e-4)\n",
    "scheduler = torch.optim.lr_scheduler.CosineAnnealingLR(optimizer, T_max=200)\n",
    "\n",
    "\n",
    "num_epochs = 10\n",
    "save_per_epochs = 20\n",
    "all_samples_learning_speed = torch.zeros(num_tasks,int(50000/num_tasks))\n",
    "\n",
    "for task in range(num_tasks):\n",
    "    train_subset = list(enumerate(train_subsets[class_pairs[task]]))\n",
    "    test_subset = test_subsets[class_pairs[task]]\n",
    "    train_loader = torch.utils.data.DataLoader(dataset=train_subset, batch_size=128, shuffle=True, num_workers=4)\n",
    "    test_loader = torch.utils.data.DataLoader(dataset=test_subset, batch_size=128, shuffle=False, num_workers=4)\n",
    "    \n",
    "    # For learning speed tracking\n",
    "    total_num_samples = len(train_loader.dataset)\n",
    "    M = torch.zeros((num_epochs, total_num_samples))\n",
    "    \n",
    "    print(f\"Training task {task}...\")\n",
    "    for epoch in range(num_epochs):\n",
    "      train_loss, train_acc, is_correct = train(model, train_loader, criterion, optimizer, device, epoch)\n",
    "      M[epoch] = is_correct\n",
    "      test_loss, test_acc = test(model, test_loader, criterion, device, epoch)\n",
    "      scheduler.step()\n",
    "    \n",
    "      print(f\"Epoch {epoch+1}/{num_epochs}: Train Loss: {train_loss:.4f}, Train Acc: {train_acc:.2f}% | Test Loss: {test_loss:.4f}, Test Acc: {test_acc:.2f}%\")\n",
    "      if epoch + 1 % save_per_epochs == 0:\n",
    "        torch.save(model.state_dict(), f'resnet18_{dataset_name.lower()}_task{task}_epoch{epoch}.pth')\n",
    "        torch.save(optimizer.state_dict(), f'optimizer_{dataset_name.lower()}_task{task}_epoch{epoch}.pth')\n",
    "        torch.save(scheduler.state_dict(), f'scheduler_{dataset_name.lower()}_task{task}_epoch{epoch}.pth')\n",
    "        torch.save(M, f'M_{dataset_name.lower()}_task{task}_epoch{epoch}.pth')\n",
    "        print(f\"Model of task {task} saved at epoch {epoch}.\")\n",
    "    all_samples_learning_speed[task] = M.sum(axis=0)"
   ]
  },
  {
   "cell_type": "markdown",
   "metadata": {},
   "source": [
    "Experiment Mean LS:"
   ]
  },
  {
   "cell_type": "code",
   "execution_count": 11,
   "metadata": {},
   "outputs": [],
   "source": [
    "class avg_loader():\n",
    "    def __init__(self,dataset,learning_speed,batch_size,tolerance = 0.1):\n",
    "        self.length = int(len(dataset)/batch_size)\n",
    "        self.dataset = dataset\n",
    "        self.learning_speed = learning_speed\n",
    "        self.batch_size = batch_size\n",
    "        self.mean = torch.mean(self.learning_speed)\n",
    "        print(self.mean)\n",
    "        self.tolerance = tolerance\n",
    "    def __iter__(self):\n",
    "        self.dataset_ls = self.learning_speed\n",
    "        self.dataset_X = torch.stack([x for (_,(x,_)) in self.dataset])\n",
    "        self.dataset_y = torch.tensor([y for (_,(_,y)) in self.dataset])\n",
    "        self.dataset_i = torch.tensor([i for (i,_) in self.dataset])\n",
    "        for i in range(self.length):\n",
    "            yield self.avg_batch()\n",
    "\n",
    "    def __next__(self):\n",
    "        return self.avg_batch()\n",
    "\n",
    "    def __len__(self):\n",
    "        return self.length\n",
    "        \n",
    "    def avg_batch(self):\n",
    "        if len(self.dataset_X) <= 0:\n",
    "            print('dataset empty')\n",
    "            return None\n",
    "        if len(self.dataset_X) <= self.batch_size:\n",
    "            batch = (self.dataset_i,(self.dataset_X,self.dataset_y))\n",
    "            self.dataset_X = None\n",
    "            self.dataset_y = None\n",
    "            self.dataset_i = None\n",
    "            self.dataset_ls = None\n",
    "            return batch\n",
    "        for i in range(10):\n",
    "            perm = torch.randperm(len(self.dataset_X))\n",
    "            indxs = perm[:self.batch_size]\n",
    "            not_indxs = perm[self.batch_size:]\n",
    "            batch_mean = torch.mean(self.dataset_ls[indxs])\n",
    "            \n",
    "            if batch_mean <= self.mean + self.tolerance and batch_mean >= self.mean - self.tolerance:\n",
    "                batch = (self.dataset_i[indxs],(self.dataset_X[indxs],self.dataset_y[indxs]))\n",
    "                self.dataset_X = self.dataset_X[not_indxs]\n",
    "                self.dataset_y = self.dataset_y[not_indxs]\n",
    "                self.dataset_i = self.dataset_i[not_indxs]\n",
    "                self.dataset_ls = self.dataset_ls[not_indxs]\n",
    "                return batch\n",
    "        print(f'No batch found within tolerance range, returning batch with mean {batch_mean}, dataset mean is {self.mean}')\n",
    "        batch = (self.dataset_i[indxs],(self.dataset_X[indxs],self.dataset_y[indxs]))\n",
    "        self.dataset_X = self.dataset_X[not_indxs]\n",
    "        self.dataset_y = self.dataset_y[not_indxs]\n",
    "        self.dataset_i = self.dataset_i[not_indxs]\n",
    "        self.dataset_ls = self.dataset_ls[not_indxs]\n",
    "        return batch\n",
    "                "
   ]
  },
  {
   "cell_type": "code",
   "execution_count": 12,
   "metadata": {},
   "outputs": [],
   "source": [
    "def run_exp(perm,exp_name):\n",
    "    for run_index in range(5):\n",
    "        model = ResNet18ForCIFAR(num_classes)\n",
    "        device = torch.device('cuda' if torch.cuda.is_available() else 'cpu')\n",
    "        model = model.to(device)\n",
    "        criterion = nn.CrossEntropyLoss()\n",
    "        optimizer = torch.optim.Adam(model.parameters(), lr=0.001, weight_decay=5e-4)\n",
    "        scheduler = torch.optim.lr_scheduler.CosineAnnealingLR(optimizer, T_max=200)\n",
    "        \n",
    "        \n",
    "        num_epochs = 10\n",
    "        save_per_epochs = 20\n",
    "        all_samples_learning_speed_batch_avg = torch.zeros(num_tasks,int(50000/num_tasks))\n",
    "        \n",
    "        for task in perm:\n",
    "            train_subset = list(enumerate(train_subsets[class_pairs[task]]))\n",
    "            test_subset = test_subsets[class_pairs[task]]\n",
    "            train_loader = avg_loader(dataset=train_subset,learning_speed = all_samples_learning_speed[task],batch_size = 128)\n",
    "            test_loader = torch.utils.data.DataLoader(dataset=test_subset, batch_size=128, shuffle=False, num_workers=4)\n",
    "            \n",
    "            # For learning speed tracking\n",
    "            total_num_samples = len(train_subset)\n",
    "            M = torch.zeros((num_epochs, total_num_samples))\n",
    "            \n",
    "            print(f\"Training task {task}...\")\n",
    "            for epoch in range(num_epochs):\n",
    "              train_loss, train_acc, is_correct = train(model, train_loader, criterion, optimizer, device, epoch)\n",
    "              M[epoch] = is_correct\n",
    "              test_loss, test_acc = test(model, test_loader, criterion, device, epoch)\n",
    "              scheduler.step()\n",
    "            \n",
    "              print(f\"Epoch {epoch+1}/{num_epochs}: Train Loss: {train_loss:.4f}, Train Acc: {train_acc:.2f}% | Test Loss: {test_loss:.4f}, Test Acc: {test_acc:.2f}%\")\n",
    "              if epoch + 1 % save_per_epochs == 0:\n",
    "                torch.save(model.state_dict(), f'resnet18_{dataset_name.lower()}_task{task}_epoch{epoch}.pth')\n",
    "                torch.save(optimizer.state_dict(), f'optimizer_{dataset_name.lower()}_task{task}_epoch{epoch}.pth')\n",
    "                torch.save(scheduler.state_dict(), f'scheduler_{dataset_name.lower()}_task{task}_epoch{epoch}.pth')\n",
    "                torch.save(M, f'M_{dataset_name.lower()}_task{task}_epoch{epoch}.pth')\n",
    "                print(f\"Model of task {task} saved at epoch {epoch}.\")\n",
    "            all_samples_learning_speed_batch_avg[task] = M.sum(axis=0)\n",
    "        torch.save(all_samples_learning_speed_batch_avg,f'first_exp/ls_{exp_name}_run{run_index}.pt')"
   ]
  },
  {
   "cell_type": "code",
   "execution_count": 13,
   "metadata": {
    "scrolled": true
   },
   "outputs": [
    {
     "name": "stdout",
     "output_type": "stream",
     "text": [
      "tensor(0.)\n",
      "Training task 0...\n"
     ]
    },
    {
     "name": "stderr",
     "output_type": "stream",
     "text": [
      "                                                                                   \r"
     ]
    },
    {
     "ename": "KeyboardInterrupt",
     "evalue": "",
     "output_type": "error",
     "traceback": [
      "\u001b[0;31m---------------------------------------------------------------------------\u001b[0m",
      "\u001b[0;31mKeyboardInterrupt\u001b[0m                         Traceback (most recent call last)",
      "Cell \u001b[0;32mIn[13], line 4\u001b[0m\n\u001b[1;32m      2\u001b[0m exp_names \u001b[38;5;241m=\u001b[39m [\u001b[38;5;124m'\u001b[39m\u001b[38;5;124mp0\u001b[39m\u001b[38;5;124m'\u001b[39m,\u001b[38;5;124m'\u001b[39m\u001b[38;5;124mp1\u001b[39m\u001b[38;5;124m'\u001b[39m,\u001b[38;5;124m'\u001b[39m\u001b[38;5;124mp2\u001b[39m\u001b[38;5;124m'\u001b[39m,\u001b[38;5;124m'\u001b[39m\u001b[38;5;124mp3\u001b[39m\u001b[38;5;124m'\u001b[39m,\u001b[38;5;124m'\u001b[39m\u001b[38;5;124mp4\u001b[39m\u001b[38;5;124m'\u001b[39m]\n\u001b[1;32m      3\u001b[0m \u001b[38;5;28;01mfor\u001b[39;00m p,n \u001b[38;5;129;01min\u001b[39;00m \u001b[38;5;28mzip\u001b[39m(exp_permutations,exp_names):\n\u001b[0;32m----> 4\u001b[0m     \u001b[43mrun_exp\u001b[49m\u001b[43m(\u001b[49m\u001b[43mp\u001b[49m\u001b[43m,\u001b[49m\u001b[43mn\u001b[49m\u001b[43m)\u001b[49m\n",
      "Cell \u001b[0;32mIn[12], line 27\u001b[0m, in \u001b[0;36mrun_exp\u001b[0;34m(perm, exp_name)\u001b[0m\n\u001b[1;32m     25\u001b[0m \u001b[38;5;28mprint\u001b[39m(\u001b[38;5;124mf\u001b[39m\u001b[38;5;124m\"\u001b[39m\u001b[38;5;124mTraining task \u001b[39m\u001b[38;5;132;01m{\u001b[39;00mtask\u001b[38;5;132;01m}\u001b[39;00m\u001b[38;5;124m...\u001b[39m\u001b[38;5;124m\"\u001b[39m)\n\u001b[1;32m     26\u001b[0m \u001b[38;5;28;01mfor\u001b[39;00m epoch \u001b[38;5;129;01min\u001b[39;00m \u001b[38;5;28mrange\u001b[39m(num_epochs):\n\u001b[0;32m---> 27\u001b[0m   train_loss, train_acc, is_correct \u001b[38;5;241m=\u001b[39m \u001b[43mtrain\u001b[49m\u001b[43m(\u001b[49m\u001b[43mmodel\u001b[49m\u001b[43m,\u001b[49m\u001b[43m \u001b[49m\u001b[43mtrain_loader\u001b[49m\u001b[43m,\u001b[49m\u001b[43m \u001b[49m\u001b[43mcriterion\u001b[49m\u001b[43m,\u001b[49m\u001b[43m \u001b[49m\u001b[43moptimizer\u001b[49m\u001b[43m,\u001b[49m\u001b[43m \u001b[49m\u001b[43mdevice\u001b[49m\u001b[43m,\u001b[49m\u001b[43m \u001b[49m\u001b[43mepoch\u001b[49m\u001b[43m)\u001b[49m\n\u001b[1;32m     28\u001b[0m   M[epoch] \u001b[38;5;241m=\u001b[39m is_correct\n\u001b[1;32m     29\u001b[0m   test_loss, test_acc \u001b[38;5;241m=\u001b[39m test(model, test_loader, criterion, device, epoch)\n",
      "Cell \u001b[0;32mIn[6], line 21\u001b[0m, in \u001b[0;36mtrain\u001b[0;34m(model, train_loader, criterion, optimizer, device, epoch)\u001b[0m\n\u001b[1;32m     18\u001b[0m loss\u001b[38;5;241m.\u001b[39mbackward()\n\u001b[1;32m     19\u001b[0m optimizer\u001b[38;5;241m.\u001b[39mstep()\n\u001b[0;32m---> 21\u001b[0m total_loss \u001b[38;5;241m+\u001b[39m\u001b[38;5;241m=\u001b[39m \u001b[43mloss\u001b[49m\u001b[38;5;241;43m.\u001b[39;49m\u001b[43mitem\u001b[49m\u001b[43m(\u001b[49m\u001b[43m)\u001b[49m\n\u001b[1;32m     22\u001b[0m _, predicted \u001b[38;5;241m=\u001b[39m outputs\u001b[38;5;241m.\u001b[39mmax(\u001b[38;5;241m1\u001b[39m)\n\u001b[1;32m     23\u001b[0m total \u001b[38;5;241m+\u001b[39m\u001b[38;5;241m=\u001b[39m targets\u001b[38;5;241m.\u001b[39mshape[\u001b[38;5;241m0\u001b[39m]\n",
      "\u001b[0;31mKeyboardInterrupt\u001b[0m: "
     ]
    }
   ],
   "source": [
    "exp_permutations = [[0,1,2,3,4],[4,3,1,2,0],[1,4,3,0,2],[3,2,0,4,1],[2,0,4,1,3]]\n",
    "exp_names = ['p0','p1','p2','p3','p4']\n",
    "for p,n in zip(exp_permutations,exp_names):\n",
    "    run_exp(p,n)"
   ]
  },
  {
   "cell_type": "markdown",
   "metadata": {},
   "source": [
    "Experiment Reduced set: "
   ]
  },
  {
   "cell_type": "code",
   "execution_count": 14,
   "metadata": {},
   "outputs": [
    {
     "name": "stdout",
     "output_type": "stream",
     "text": [
      "8000\n",
      "(tensor(0), (tensor([[[ 0.3333,  0.3176,  0.3882,  ...,  0.2706,  0.2392,  0.2314],\n",
      "         [ 0.3176,  0.3490,  0.3412,  ...,  0.2471,  0.2235,  0.2078],\n",
      "         [ 0.2078,  0.1686,  0.0118,  ...,  0.2627,  0.2314,  0.2078],\n",
      "         ...,\n",
      "         [-0.4196, -0.4039, -0.3882,  ..., -0.4431, -0.4667, -0.5216],\n",
      "         [-0.4667, -0.4588, -0.4353,  ..., -0.4039, -0.4431, -0.4431],\n",
      "         [-0.4745, -0.4667, -0.4588,  ..., -0.4118, -0.4431, -0.4275]],\n",
      "\n",
      "        [[ 0.4118,  0.3961,  0.4510,  ...,  0.4039,  0.3961,  0.3882],\n",
      "         [ 0.4196,  0.4510,  0.4353,  ...,  0.3882,  0.3804,  0.3647],\n",
      "         [ 0.3333,  0.2941,  0.1294,  ...,  0.3961,  0.3882,  0.3647],\n",
      "         ...,\n",
      "         [-0.3412, -0.3333, -0.3333,  ..., -0.4118, -0.4353, -0.4902],\n",
      "         [-0.4039, -0.3961, -0.3804,  ..., -0.3725, -0.4118, -0.4118],\n",
      "         [-0.4118, -0.4039, -0.4118,  ..., -0.3804, -0.4118, -0.3961]],\n",
      "\n",
      "        [[ 0.5529,  0.5373,  0.5922,  ...,  0.6863,  0.6784,  0.6627],\n",
      "         [ 0.5529,  0.5765,  0.5686,  ...,  0.6627,  0.6549,  0.6392],\n",
      "         [ 0.4588,  0.4196,  0.2706,  ...,  0.6784,  0.6627,  0.6392],\n",
      "         ...,\n",
      "         [-0.3725, -0.3647, -0.3569,  ..., -0.3882, -0.4118, -0.4667],\n",
      "         [-0.3961, -0.3882, -0.3882,  ..., -0.3490, -0.3882, -0.3882],\n",
      "         [-0.3882, -0.3804, -0.4039,  ..., -0.3569, -0.3882, -0.3725]]]), tensor(1)))\n"
     ]
    }
   ],
   "source": [
    "import numpy as np\n",
    "\n",
    "def top_percent_indices(arr,percentile):\n",
    "    # Convert the array to a NumPy array\n",
    "    arr = np.array(arr)\n",
    "    \n",
    "    # Calculate the number of elements to include in the top 20%\n",
    "    num_elements = int(np.ceil(percentile * len(arr)))\n",
    "    \n",
    "    # Get the indices of the sorted array\n",
    "    sorted_indices = np.argsort(-arr)\n",
    "    \n",
    "    # Select the top % indices\n",
    "    top_indices = sorted_indices[:num_elements]\n",
    "    \n",
    "    return top_indices\n",
    "\n",
    "def bot_percent_indices(arr,percentile):\n",
    "    # Convert the array to a NumPy array\n",
    "    arr = np.array(arr)\n",
    "    \n",
    "    # Calculate the number of elements to include in the top 20%\n",
    "    num_elements = int(np.ceil(percentile * len(arr)))\n",
    "    \n",
    "    # Get the indices of the sorted array\n",
    "    sorted_indices = np.argsort(arr)\n",
    "    \n",
    "    # Select the bot % indices\n",
    "    top_indices = sorted_indices[:num_elements]\n",
    "    \n",
    "    return top_indices\n",
    "\n",
    "\n",
    "def remove_top_bot(dataset,learning_speeds,percentile = 0.2):\n",
    "    dataset_X = torch.stack([x for (_,(x,_)) in dataset])\n",
    "    dataset_y = torch.tensor([y for (_,(_,y)) in dataset])\n",
    "    dataset_i = torch.tensor([i for (i,_) in dataset])\n",
    "    mask = np.ones(len(dataset), dtype=bool)\n",
    "    top = top_percent_indices(learning_speeds,percentile)\n",
    "    bot = bot_percent_indices(learning_speeds,percentile)\n",
    "    #print(top.size,bot.size)\n",
    "    mask[top] = False\n",
    "    mask[bot] = False\n",
    "    masked_dataset = [(i,(X,y)) for i,X,y in zip(dataset_i[mask],dataset_X[mask],dataset_y[mask])]\n",
    "    print(len(masked_dataset))\n",
    "    return masked_dataset,learning_speeds,mask\n",
    "    \n",
    "train_subset = list(enumerate(train_subsets[class_pairs[task]]))    \n",
    "print(remove_top_bot(train_subset,all_samples_learning_speed[0])[0][0]) \n",
    "\n",
    "\n",
    "    "
   ]
  },
  {
   "cell_type": "code",
   "execution_count": 15,
   "metadata": {},
   "outputs": [],
   "source": [
    "#changed this\n",
    "def train(model, train_loader, criterion, optimizer, device, epoch,total_num_samples):\n",
    "    model.train()\n",
    "    total_loss = 0\n",
    "    correct = 0\n",
    "    total = 0\n",
    "\n",
    "    is_correct = torch.zeros((1, total_num_samples))\n",
    "    is_correct_idx = 0\n",
    "\n",
    "    progress_bar = tqdm(train_loader, desc=f\"Epoch {epoch} [Training]\", leave=False)\n",
    "    for batch_idx, (indexes,(inputs, targets)) in enumerate(progress_bar):\n",
    "        inputs, targets = inputs.to(device), targets.to(device)\n",
    "        optimizer.zero_grad()\n",
    "        outputs = model(inputs)\n",
    "        loss = criterion(outputs, targets)\n",
    "        loss.backward()\n",
    "        optimizer.step()\n",
    "\n",
    "        total_loss += loss.item()\n",
    "        _, predicted = outputs.max(1)\n",
    "        total += targets.shape[0]\n",
    "        correct += predicted.eq(targets).sum().item()\n",
    "\n",
    "        batch_num_samples = targets.shape[0]\n",
    "        is_correct[:, indexes] = predicted.eq(targets).cpu().float()\n",
    "        \n",
    "\n",
    "        # Update progress bar\n",
    "        progress_bar.set_postfix(loss=f\"{loss.item():.4f}\", accuracy=f\"{100. * correct / total:.2f}%\")\n",
    "\n",
    "\n",
    "    accuracy = 100. * correct / total\n",
    "    return total_loss / len(train_loader), accuracy, is_correct"
   ]
  },
  {
   "cell_type": "code",
   "execution_count": 16,
   "metadata": {},
   "outputs": [],
   "source": [
    "def run_exp_cropped(perm,exp_name,crop_frac = 0.2):\n",
    "    for run_index in range(5):\n",
    "        model = ResNet18ForCIFAR(num_classes)\n",
    "        device = torch.device('cuda' if torch.cuda.is_available() else 'cpu')\n",
    "        model = model.to(device)\n",
    "        criterion = nn.CrossEntropyLoss()\n",
    "        optimizer = torch.optim.Adam(model.parameters(), lr=0.001, weight_decay=5e-4)\n",
    "        scheduler = torch.optim.lr_scheduler.CosineAnnealingLR(optimizer, T_max=200)\n",
    "        \n",
    "        \n",
    "        num_epochs = 10\n",
    "        save_per_epochs = 20\n",
    "        all_samples_learning_speed_batch_avg = torch.zeros(num_tasks,int(50000/num_tasks))\n",
    "        \n",
    "        for task in perm:\n",
    "            train_subset = list(enumerate(train_subsets[class_pairs[task]]))\n",
    "            total_num_samples = len(train_subset)\n",
    "            train_subset,_,mask = remove_top_bot(train_subset,all_samples_learning_speed[task],crop_frac)\n",
    "            test_subset = test_subsets[class_pairs[task]]\n",
    "            train_loader = torch.utils.data.DataLoader(dataset=train_subset, batch_size=128, shuffle=True, num_workers=4)\n",
    "            test_loader = torch.utils.data.DataLoader(dataset=test_subset, batch_size=128, shuffle=False, num_workers=4)\n",
    "            \n",
    "            # For learning speed tracking\n",
    "            \n",
    "            M = torch.zeros((num_epochs, total_num_samples))\n",
    "            \n",
    "            print(f\"Training task {task}...\")\n",
    "            for epoch in range(num_epochs):\n",
    "              train_loss, train_acc, is_correct = train(model, train_loader, criterion, optimizer, device, epoch,total_num_samples)\n",
    "              M[epoch] = is_correct\n",
    "              test_loss, test_acc = test(model, test_loader, criterion, device, epoch)\n",
    "              scheduler.step()\n",
    "            \n",
    "              print(f\"Epoch {epoch+1}/{num_epochs}: Train Loss: {train_loss:.4f}, Train Acc: {train_acc:.2f}% | Test Loss: {test_loss:.4f}, Test Acc: {test_acc:.2f}%\")\n",
    "              if epoch + 1 % save_per_epochs == 0:\n",
    "                torch.save(model.state_dict(), f'resnet18_{dataset_name.lower()}_task{task}_epoch{epoch}.pth')\n",
    "                torch.save(optimizer.state_dict(), f'optimizer_{dataset_name.lower()}_task{task}_epoch{epoch}.pth')\n",
    "                torch.save(scheduler.state_dict(), f'scheduler_{dataset_name.lower()}_task{task}_epoch{epoch}.pth')\n",
    "                torch.save(M, f'M_{dataset_name.lower()}_task{task}_epoch{epoch}.pth')\n",
    "                print(f\"Model of task {task} saved at epoch {epoch}.\")\n",
    "            all_samples_learning_speed_batch_avg[task] = M.sum(axis=0)\n",
    "            all_samples_learning_speed_batch_avg[task][np.invert(mask)] = -1\n",
    "        torch.save(all_samples_learning_speed_batch_avg,f'exp_cropped/ls_{exp_name}_run{run_index}_cropped.pt')"
   ]
  },
  {
   "cell_type": "code",
   "execution_count": 17,
   "metadata": {
    "scrolled": true
   },
   "outputs": [
    {
     "name": "stdout",
     "output_type": "stream",
     "text": [
      "8000\n",
      "Training task 0...\n"
     ]
    },
    {
     "name": "stderr",
     "output_type": "stream",
     "text": [
      "                                                                                   \r"
     ]
    },
    {
     "ename": "KeyboardInterrupt",
     "evalue": "",
     "output_type": "error",
     "traceback": [
      "\u001b[0;31m---------------------------------------------------------------------------\u001b[0m",
      "\u001b[0;31mKeyboardInterrupt\u001b[0m                         Traceback (most recent call last)",
      "Cell \u001b[0;32mIn[17], line 4\u001b[0m\n\u001b[1;32m      2\u001b[0m exp_names \u001b[38;5;241m=\u001b[39m [\u001b[38;5;124m'\u001b[39m\u001b[38;5;124mp0\u001b[39m\u001b[38;5;124m'\u001b[39m,\u001b[38;5;124m'\u001b[39m\u001b[38;5;124mp1\u001b[39m\u001b[38;5;124m'\u001b[39m,\u001b[38;5;124m'\u001b[39m\u001b[38;5;124mp2\u001b[39m\u001b[38;5;124m'\u001b[39m,\u001b[38;5;124m'\u001b[39m\u001b[38;5;124mp3\u001b[39m\u001b[38;5;124m'\u001b[39m,\u001b[38;5;124m'\u001b[39m\u001b[38;5;124mp4\u001b[39m\u001b[38;5;124m'\u001b[39m]\n\u001b[1;32m      3\u001b[0m \u001b[38;5;28;01mfor\u001b[39;00m p,n \u001b[38;5;129;01min\u001b[39;00m \u001b[38;5;28mzip\u001b[39m(exp_permutations,exp_names):\n\u001b[0;32m----> 4\u001b[0m     \u001b[43mrun_exp_cropped\u001b[49m\u001b[43m(\u001b[49m\u001b[43mp\u001b[49m\u001b[43m,\u001b[49m\u001b[43mn\u001b[49m\u001b[43m)\u001b[49m\n",
      "Cell \u001b[0;32mIn[16], line 29\u001b[0m, in \u001b[0;36mrun_exp_cropped\u001b[0;34m(perm, exp_name, crop_frac)\u001b[0m\n\u001b[1;32m     27\u001b[0m \u001b[38;5;28mprint\u001b[39m(\u001b[38;5;124mf\u001b[39m\u001b[38;5;124m\"\u001b[39m\u001b[38;5;124mTraining task \u001b[39m\u001b[38;5;132;01m{\u001b[39;00mtask\u001b[38;5;132;01m}\u001b[39;00m\u001b[38;5;124m...\u001b[39m\u001b[38;5;124m\"\u001b[39m)\n\u001b[1;32m     28\u001b[0m \u001b[38;5;28;01mfor\u001b[39;00m epoch \u001b[38;5;129;01min\u001b[39;00m \u001b[38;5;28mrange\u001b[39m(num_epochs):\n\u001b[0;32m---> 29\u001b[0m   train_loss, train_acc, is_correct \u001b[38;5;241m=\u001b[39m \u001b[43mtrain\u001b[49m\u001b[43m(\u001b[49m\u001b[43mmodel\u001b[49m\u001b[43m,\u001b[49m\u001b[43m \u001b[49m\u001b[43mtrain_loader\u001b[49m\u001b[43m,\u001b[49m\u001b[43m \u001b[49m\u001b[43mcriterion\u001b[49m\u001b[43m,\u001b[49m\u001b[43m \u001b[49m\u001b[43moptimizer\u001b[49m\u001b[43m,\u001b[49m\u001b[43m \u001b[49m\u001b[43mdevice\u001b[49m\u001b[43m,\u001b[49m\u001b[43m \u001b[49m\u001b[43mepoch\u001b[49m\u001b[43m,\u001b[49m\u001b[43mtotal_num_samples\u001b[49m\u001b[43m)\u001b[49m\n\u001b[1;32m     30\u001b[0m   M[epoch] \u001b[38;5;241m=\u001b[39m is_correct\n\u001b[1;32m     31\u001b[0m   test_loss, test_acc \u001b[38;5;241m=\u001b[39m test(model, test_loader, criterion, device, epoch)\n",
      "Cell \u001b[0;32mIn[15], line 20\u001b[0m, in \u001b[0;36mtrain\u001b[0;34m(model, train_loader, criterion, optimizer, device, epoch, total_num_samples)\u001b[0m\n\u001b[1;32m     17\u001b[0m loss\u001b[38;5;241m.\u001b[39mbackward()\n\u001b[1;32m     18\u001b[0m optimizer\u001b[38;5;241m.\u001b[39mstep()\n\u001b[0;32m---> 20\u001b[0m total_loss \u001b[38;5;241m+\u001b[39m\u001b[38;5;241m=\u001b[39m \u001b[43mloss\u001b[49m\u001b[38;5;241;43m.\u001b[39;49m\u001b[43mitem\u001b[49m\u001b[43m(\u001b[49m\u001b[43m)\u001b[49m\n\u001b[1;32m     21\u001b[0m _, predicted \u001b[38;5;241m=\u001b[39m outputs\u001b[38;5;241m.\u001b[39mmax(\u001b[38;5;241m1\u001b[39m)\n\u001b[1;32m     22\u001b[0m total \u001b[38;5;241m+\u001b[39m\u001b[38;5;241m=\u001b[39m targets\u001b[38;5;241m.\u001b[39mshape[\u001b[38;5;241m0\u001b[39m]\n",
      "\u001b[0;31mKeyboardInterrupt\u001b[0m: "
     ]
    }
   ],
   "source": [
    "exp_permutations = [[0,1,2,3,4],[4,3,1,2,0],[1,4,3,0,2],[3,2,0,4,1],[2,0,4,1,3]]\n",
    "exp_names = ['p0','p1','p2','p3','p4']\n",
    "for p,n in zip(exp_permutations,exp_names):\n",
    "    run_exp_cropped(p,n)"
   ]
  },
  {
   "cell_type": "markdown",
   "metadata": {},
   "source": [
    "Experiment Batch position:"
   ]
  },
  {
   "cell_type": "code",
   "execution_count": 18,
   "metadata": {},
   "outputs": [],
   "source": [
    "#learning speed of individual samples changes depending on sample order\n",
    "#average learning speed does not change\n",
    "#task oredering has an impact\n",
    "#changed this\n",
    "def train(model, train_loader, criterion, optimizer, device, epoch):\n",
    "    model.train()\n",
    "    total_loss = 0\n",
    "    correct = 0\n",
    "    total = 0\n",
    "\n",
    "    total_num_samples = len(train_loader.dataset)\n",
    "\n",
    "    is_correct = torch.zeros((1, total_num_samples))\n",
    "    is_correct_idx = 0\n",
    "    batch_indxs = torch.zeros((1, total_num_samples))\n",
    "\n",
    "    progress_bar = tqdm(train_loader, desc=f\"Epoch {epoch} [Training]\", leave=False)\n",
    "    for batch_idx, (indexes,(inputs, targets)) in enumerate(progress_bar):\n",
    "        inputs, targets = inputs.to(device), targets.to(device)\n",
    "        optimizer.zero_grad()\n",
    "        outputs = model(inputs)\n",
    "        loss = criterion(outputs, targets)\n",
    "        loss.backward()\n",
    "        optimizer.step()\n",
    "\n",
    "        total_loss += loss.item()\n",
    "        _, predicted = outputs.max(1)\n",
    "        total += targets.shape[0]\n",
    "        correct += predicted.eq(targets).sum().item()\n",
    "\n",
    "        batch_num_samples = targets.shape[0]\n",
    "        is_correct[:, indexes] = predicted.eq(targets).cpu().float()\n",
    "        batch_indxs[:, indexes] = torch.full((len(indexes),),float(batch_idx))\n",
    "        \n",
    "\n",
    "        # Update progress bar\n",
    "        progress_bar.set_postfix(loss=f\"{loss.item():.4f}\", accuracy=f\"{100. * correct / total:.2f}%\")\n",
    "\n",
    "\n",
    "    accuracy = 100. * correct / total\n",
    "    return total_loss / len(train_loader), accuracy, is_correct,batch_indxs"
   ]
  },
  {
   "cell_type": "code",
   "execution_count": 19,
   "metadata": {},
   "outputs": [],
   "source": [
    "def run_exp_batchpos(perm,exp_name):\n",
    "    for run_index in range(5):\n",
    "        model = ResNet18ForCIFAR(num_classes)\n",
    "        device = torch.device('cuda' if torch.cuda.is_available() else 'cpu')\n",
    "        model = model.to(device)\n",
    "        criterion = nn.CrossEntropyLoss()\n",
    "        optimizer = torch.optim.Adam(model.parameters(), lr=0.001, weight_decay=5e-4)\n",
    "        scheduler = torch.optim.lr_scheduler.CosineAnnealingLR(optimizer, T_max=200)\n",
    "        \n",
    "        \n",
    "        num_epochs = 10\n",
    "        save_per_epochs = 20\n",
    "        all_samples_learning_speed_batch_avg = torch.zeros(num_tasks,int(50000/num_tasks))\n",
    "        all_samples_batchpos_avg = torch.zeros(num_tasks,int(50000/num_tasks))\n",
    "        \n",
    "        for task in perm:\n",
    "            train_subset = list(enumerate(train_subsets[class_pairs[task]]))\n",
    "            test_subset = test_subsets[class_pairs[task]]\n",
    "            train_loader = torch.utils.data.DataLoader(dataset=train_subset, batch_size=128, shuffle=True, num_workers=4)\n",
    "            test_loader = torch.utils.data.DataLoader(dataset=test_subset, batch_size=128, shuffle=False, num_workers=4)\n",
    "            \n",
    "            # For learning speed tracking\n",
    "            total_num_samples = len(train_subset)\n",
    "            M = torch.zeros((num_epochs, total_num_samples))\n",
    "            \n",
    "            print(f\"Training task {task}...\")\n",
    "            for epoch in range(num_epochs):\n",
    "                train_loss, train_acc, is_correct, batch_indxs = train(model, train_loader, criterion, optimizer, device, epoch)\n",
    "                M[epoch] = is_correct\n",
    "                if not epoch == 0:\n",
    "                    all_samples_batchpos_avg[task] += ((1/(num_epochs-1)) * batch_indxs).squeeze()\n",
    "                test_loss, test_acc = test(model, test_loader, criterion, device, epoch)\n",
    "                scheduler.step()\n",
    "                \n",
    "                print(f\"Epoch {epoch+1}/{num_epochs}: Train Loss: {train_loss:.4f}, Train Acc: {train_acc:.2f}% | Test Loss: {test_loss:.4f}, Test Acc: {test_acc:.2f}%\")\n",
    "                if epoch + 1 % save_per_epochs == 0:\n",
    "                    torch.save(model.state_dict(), f'resnet18_{dataset_name.lower()}_task{task}_epoch{epoch}.pth')\n",
    "                    torch.save(optimizer.state_dict(), f'optimizer_{dataset_name.lower()}_task{task}_epoch{epoch}.pth')\n",
    "                    torch.save(scheduler.state_dict(), f'scheduler_{dataset_name.lower()}_task{task}_epoch{epoch}.pth')\n",
    "                    torch.save(M, f'M_{dataset_name.lower()}_task{task}_epoch{epoch}.pth')\n",
    "                    print(f\"Model of task {task} saved at epoch {epoch}.\")\n",
    "            all_samples_learning_speed_batch_avg[task] = M.sum(axis=0)\n",
    "        torch.save(all_samples_learning_speed_batch_avg,f'exp_batchpos/ls_{exp_name}_run{run_index}.pt')\n",
    "        torch.save(all_samples_batchpos_avg,f'exp_batchpos/bp_{exp_name}_run{run_index}.pt')"
   ]
  },
  {
   "cell_type": "code",
   "execution_count": 20,
   "metadata": {
    "scrolled": true
   },
   "outputs": [
    {
     "name": "stdout",
     "output_type": "stream",
     "text": [
      "Training task 0...\n"
     ]
    },
    {
     "name": "stderr",
     "output_type": "stream",
     "text": [
      "                                                                                   \r"
     ]
    },
    {
     "ename": "KeyboardInterrupt",
     "evalue": "",
     "output_type": "error",
     "traceback": [
      "\u001b[0;31m---------------------------------------------------------------------------\u001b[0m",
      "\u001b[0;31mKeyboardInterrupt\u001b[0m                         Traceback (most recent call last)",
      "Cell \u001b[0;32mIn[20], line 4\u001b[0m\n\u001b[1;32m      2\u001b[0m exp_names \u001b[38;5;241m=\u001b[39m [\u001b[38;5;124m'\u001b[39m\u001b[38;5;124mp0\u001b[39m\u001b[38;5;124m'\u001b[39m,\u001b[38;5;124m'\u001b[39m\u001b[38;5;124mp1\u001b[39m\u001b[38;5;124m'\u001b[39m,\u001b[38;5;124m'\u001b[39m\u001b[38;5;124mp2\u001b[39m\u001b[38;5;124m'\u001b[39m,\u001b[38;5;124m'\u001b[39m\u001b[38;5;124mp3\u001b[39m\u001b[38;5;124m'\u001b[39m,\u001b[38;5;124m'\u001b[39m\u001b[38;5;124mp4\u001b[39m\u001b[38;5;124m'\u001b[39m]\n\u001b[1;32m      3\u001b[0m \u001b[38;5;28;01mfor\u001b[39;00m p,n \u001b[38;5;129;01min\u001b[39;00m \u001b[38;5;28mzip\u001b[39m(exp_permutations,exp_names):\n\u001b[0;32m----> 4\u001b[0m     \u001b[43mrun_exp_batchpos\u001b[49m\u001b[43m(\u001b[49m\u001b[43mp\u001b[49m\u001b[43m,\u001b[49m\u001b[43mn\u001b[49m\u001b[43m)\u001b[49m\n",
      "Cell \u001b[0;32mIn[19], line 28\u001b[0m, in \u001b[0;36mrun_exp_batchpos\u001b[0;34m(perm, exp_name)\u001b[0m\n\u001b[1;32m     26\u001b[0m \u001b[38;5;28mprint\u001b[39m(\u001b[38;5;124mf\u001b[39m\u001b[38;5;124m\"\u001b[39m\u001b[38;5;124mTraining task \u001b[39m\u001b[38;5;132;01m{\u001b[39;00mtask\u001b[38;5;132;01m}\u001b[39;00m\u001b[38;5;124m...\u001b[39m\u001b[38;5;124m\"\u001b[39m)\n\u001b[1;32m     27\u001b[0m \u001b[38;5;28;01mfor\u001b[39;00m epoch \u001b[38;5;129;01min\u001b[39;00m \u001b[38;5;28mrange\u001b[39m(num_epochs):\n\u001b[0;32m---> 28\u001b[0m     train_loss, train_acc, is_correct, batch_indxs \u001b[38;5;241m=\u001b[39m \u001b[43mtrain\u001b[49m\u001b[43m(\u001b[49m\u001b[43mmodel\u001b[49m\u001b[43m,\u001b[49m\u001b[43m \u001b[49m\u001b[43mtrain_loader\u001b[49m\u001b[43m,\u001b[49m\u001b[43m \u001b[49m\u001b[43mcriterion\u001b[49m\u001b[43m,\u001b[49m\u001b[43m \u001b[49m\u001b[43moptimizer\u001b[49m\u001b[43m,\u001b[49m\u001b[43m \u001b[49m\u001b[43mdevice\u001b[49m\u001b[43m,\u001b[49m\u001b[43m \u001b[49m\u001b[43mepoch\u001b[49m\u001b[43m)\u001b[49m\n\u001b[1;32m     29\u001b[0m     M[epoch] \u001b[38;5;241m=\u001b[39m is_correct\n\u001b[1;32m     30\u001b[0m     \u001b[38;5;28;01mif\u001b[39;00m \u001b[38;5;129;01mnot\u001b[39;00m epoch \u001b[38;5;241m==\u001b[39m \u001b[38;5;241m0\u001b[39m:\n",
      "Cell \u001b[0;32mIn[18], line 26\u001b[0m, in \u001b[0;36mtrain\u001b[0;34m(model, train_loader, criterion, optimizer, device, epoch)\u001b[0m\n\u001b[1;32m     23\u001b[0m loss\u001b[38;5;241m.\u001b[39mbackward()\n\u001b[1;32m     24\u001b[0m optimizer\u001b[38;5;241m.\u001b[39mstep()\n\u001b[0;32m---> 26\u001b[0m total_loss \u001b[38;5;241m+\u001b[39m\u001b[38;5;241m=\u001b[39m \u001b[43mloss\u001b[49m\u001b[38;5;241;43m.\u001b[39;49m\u001b[43mitem\u001b[49m\u001b[43m(\u001b[49m\u001b[43m)\u001b[49m\n\u001b[1;32m     27\u001b[0m _, predicted \u001b[38;5;241m=\u001b[39m outputs\u001b[38;5;241m.\u001b[39mmax(\u001b[38;5;241m1\u001b[39m)\n\u001b[1;32m     28\u001b[0m total \u001b[38;5;241m+\u001b[39m\u001b[38;5;241m=\u001b[39m targets\u001b[38;5;241m.\u001b[39mshape[\u001b[38;5;241m0\u001b[39m]\n",
      "\u001b[0;31mKeyboardInterrupt\u001b[0m: "
     ]
    }
   ],
   "source": [
    "exp_permutations = [[0,1,2,3,4],[4,3,1,2,0],[1,4,3,0,2],[3,2,0,4,1],[2,0,4,1,3]]\n",
    "exp_names = ['p0','p1','p2','p3','p4']\n",
    "for p,n in zip(exp_permutations,exp_names):\n",
    "    run_exp_batchpos(p,n)"
   ]
  },
  {
   "cell_type": "code",
   "execution_count": 21,
   "metadata": {},
   "outputs": [],
   "source": [
    "#torch.save(all_samples_learning_speed,'learning_speed.pt')"
   ]
  },
  {
   "cell_type": "code",
   "execution_count": null,
   "metadata": {},
   "outputs": [],
   "source": []
  }
 ],
 "metadata": {
  "accelerator": "GPU",
  "colab": {
   "gpuType": "T4",
   "provenance": []
  },
  "kernelspec": {
   "display_name": "Python 3 (ipykernel)",
   "language": "python",
   "name": "python3"
  },
  "language_info": {
   "codemirror_mode": {
    "name": "ipython",
    "version": 3
   },
   "file_extension": ".py",
   "mimetype": "text/x-python",
   "name": "python",
   "nbconvert_exporter": "python",
   "pygments_lexer": "ipython3",
   "version": "3.11.6"
  }
 },
 "nbformat": 4,
 "nbformat_minor": 4
}
