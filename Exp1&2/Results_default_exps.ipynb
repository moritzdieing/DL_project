{
  "nbformat": 4,
  "nbformat_minor": 0,
  "metadata": {
    "colab": {
      "provenance": []
    },
    "kernelspec": {
      "name": "python3",
      "display_name": "Python 3"
    },
    "language_info": {
      "name": "python"
    }
  },
  "cells": [
    {
      "cell_type": "code",
      "execution_count": 2,
      "metadata": {
        "id": "y9XLeXqkDBZo"
      },
      "outputs": [],
      "source": [
        "DRIVE = False\n",
        "if DRIVE:\n",
        "  from google.colab import drive\n",
        "  drive.mount('/content/drive')\n",
        "\n",
        "import torch"
      ]
    },
    {
      "cell_type": "code",
      "source": [
        "import statistics\n",
        "\n",
        "def run_average(perm, path, exp_names, verbose, num_runs):\n",
        "  total = {}\n",
        "  actual_task = {\"0\": [], \"1\": [], \"2\": [], \"3\": [], \"4\": []}\n",
        "  learning_pos = {\"0\": [], \"1\": [], \"2\": [], \"3\": [], \"4\": []}\n",
        "  for idx_1, exp_name in enumerate(exp_names):\n",
        "    averages = [0] * num_runs\n",
        "    if verbose: print(f\"experiment {exp_name}\")\n",
        "\n",
        "    for run in range(num_runs):\n",
        "      if verbose: print(f\"Run: {run}\")\n",
        "      inner_averages = []\n",
        "      learn_speed = torch.load(f'{path}/ls_{exp_name}_{run}_default.pth')\n",
        "      count = [torch.bincount(learn_speed[i].int()) for i in range(5)]\n",
        "\n",
        "      # average learning speed:\n",
        "      for idx_2, t in enumerate(count):\n",
        "        avg = 0\n",
        "        for idx_in, el in enumerate(t):\n",
        "          avg += el * idx_in\n",
        "\n",
        "        temp = learning_pos[f\"{idx_2}\"]\n",
        "        temp.append(float(avg/t.sum()))\n",
        "        learning_pos[f\"{idx_2}\"] = temp\n",
        "\n",
        "        temp = actual_task[f\"{perm[idx_1][idx_2]}\"]\n",
        "        temp.append(float(avg/t.sum()))\n",
        "        actual_task[f\"{perm[idx_1][idx_2]}\"] = temp\n",
        "\n",
        "        if verbose: print(f\"Learned Task {idx_2} (actual task {perm[idx_1][idx_2]}) avg. learning speed: {avg/t.sum()}\")\n",
        "        inner_averages.append(avg/t.sum())\n",
        "\n",
        "      # compute speed average for this run\n",
        "      averages[run] = float(sum(inner_averages) / len(inner_averages))\n",
        "    for pr_idx, avg in enumerate(averages):\n",
        "      if verbose: print(f\"Run {pr_idx} average: {avg}\")\n",
        "\n",
        "    total[exp_name] = (statistics.mean(averages), statistics.stdev(averages))\n",
        "  for key in actual_task.keys():\n",
        "    actual_task[key] = (statistics.mean(actual_task[key]), statistics.stdev(actual_task[key]))\n",
        "    learning_pos[key] = (statistics.mean(learning_pos[key]), statistics.stdev(learning_pos[key]))\n",
        "\n",
        "\n",
        "  return total, actual_task, learning_pos"
      ],
      "metadata": {
        "id": "UZ59ydi8DGot"
      },
      "execution_count": null,
      "outputs": []
    },
    {
      "cell_type": "code",
      "source": [
        "\"\"\"\n",
        "Here now print results when ordering:\n",
        "tot: contains for each exp the average learning speed and std.\n",
        "at:  contains for each task the average learning speed for all the runs and exps (75 total vals)\n",
        "lp:  contains for each learning position the average learning speed (75 total val, each actual tast 15 times)\n",
        "\"\"\"\n",
        "\n",
        "exp_permutations = [[0,1,2,3,4],[4,3,1,2,0],[1,4,3,0,2],[3,2,0,4,1],[2,0,4,1,3]]\n",
        "exp_names = ['p0','p1','p2','p3','p4']\n",
        "path = \"/content/drive/MyDrive/exp_results/default\" # TODO: exchange with own path, example path to drive\n",
        "verbose = True\n",
        "num_runs = 15\n",
        "\n",
        "tot, at, lp = run_average(exp_permutations, path, exp_names, verbose, num_runs)"
      ],
      "metadata": {
        "collapsed": true,
        "id": "nxZbjff1REOq"
      },
      "execution_count": null,
      "outputs": []
    },
    {
      "cell_type": "code",
      "source": [
        "tot, at, lp"
      ],
      "metadata": {
        "colab": {
          "base_uri": "https://localhost:8080/"
        },
        "id": "a2JenQCrDIrO",
        "outputId": "05d88d49-fcef-49be-8e50-8d6c1404d7bf"
      },
      "execution_count": null,
      "outputs": [
        {
          "output_type": "execute_result",
          "data": {
            "text/plain": [
              "({'p0': (9.181870651245116, 0.030117535857021795),\n",
              "  'p1': (9.135250854492188, 0.04727069689023117),\n",
              "  'p2': (9.085728073120118, 0.04368395110567139),\n",
              "  'p3': (9.182953389485677, 0.04310841666885159),\n",
              "  'p4': (9.155961227416991, 0.04015393934799925)},\n",
              " {'0': (9.239983990987142, 0.4366503540223478),\n",
              "  '1': (9.051838658650716, 0.24612615918127856),\n",
              "  '2': (9.258153381347656, 0.5331773322864435),\n",
              "  '3': (9.111469294230144, 0.43216376710790794),\n",
              "  '4': (9.08031867980957, 0.32653002683095234)},\n",
              " {'0': (9.414119987487792, 0.22593978638442108),\n",
              "  '1': (8.53191869099935, 0.21690041256063067),\n",
              "  '2': (8.969469337463378, 0.26041009284384103),\n",
              "  '3': (9.41155865987142, 0.1810954725436557),\n",
              "  '4': (9.414697329203287, 0.18758244565359192)})"
            ]
          },
          "metadata": {},
          "execution_count": 4
        }
      ]
    }
  ]
}